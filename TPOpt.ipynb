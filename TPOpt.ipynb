{
 "cells": [
  {
   "cell_type": "code",
   "execution_count": 8,
   "metadata": {},
   "outputs": [
    {
     "name": "stdout",
     "output_type": "stream",
     "text": [
      "pour la droite analytique y=k*x +c,le pente k =  0.02898837815220822 et c =  3.805140125273185\n"
     ]
    },
    {
     "data": {
      "image/png": "[encoded data removed]",
      "text/plain": [
       "<Figure size 432x288 with 1 Axes>"
      ]
     },
     "metadata": {
      "needs_background": "light"
     },
     "output_type": "display_data"
    }
   ],
   "source": [
    "import random\n",
    "import matplotlib\n",
    "import matplotlib.pyplot as plt\n",
    "import numpy as np\n",
    "x = [random.uniform(0, 20)]\n",
    "y = [random.gauss(4, 1)]\n",
    "\n",
    "nbpoint = 49\n",
    "for i in range(nbpoint):\n",
    "    x_new = random.uniform(0, 20)#distribution de X :uniforme de [0,20]\n",
    "    y_new = random.gauss(4, 1)#pour y :variance de 4 \n",
    "    x.append(x_new)\n",
    "    y.append(y_new)\n",
    "    \n",
    "plt.title(\"nuage des points et fonction calcule en rouge aléatoire en jeune\") \n",
    "plt.xlabel(\"x\")\n",
    "plt.ylabel(\"y\")\n",
    "plt.plot(x,y,'bo')\n",
    "\n",
    "#calculde la fonction coordonnée avec y=kx+c\n",
    "sommeXY = 0\n",
    "sommeX = 0\n",
    "sommeY = 0\n",
    "sommeXcarre = 0\n",
    "for i in range(50):\n",
    "    sommeXY = sommeXY + x[i]*y[i]\n",
    "\n",
    "for i in range(50):\n",
    "    sommeY = sommeY + y[i]    \n",
    "\n",
    "for i in range(50):\n",
    "    sommeX = sommeX + x[i]\n",
    "    \n",
    "for i in range(50):\n",
    "    sommeXcarre = sommeXcarre + np.square(x[i])    \n",
    "    \n",
    "k = ((50*sommeXY)-(sommeY*sommeX))/((50*sommeXcarre)-np.square(sommeX))\n",
    "c = ((sommeXcarre*sommeY) - sommeX*sommeXY) /((50*sommeXcarre)-np.square(sommeX))\n",
    "print(\"pour la droite analytique y=k*x +c,le pente k = \",k,\"et c = \" ,c )\n",
    "#affichage :\n",
    "xd = np.linspace(0,20)\n",
    "ycalcul = xd*k+c\n",
    "#fonction aléatoire y=x*a+b:\n",
    "a = -0.2\n",
    "b = 4\n",
    "yaleatoire = xd*a+b\n",
    "plt.plot(xd,ycalcul,'r')\n",
    "#plt.plot(xd,yaleatoire,'y')\n",
    "plt.show\n",
    "plt.savefig(\"nuage.jpg\")"
   ]
  },
  {
   "cell_type": "code",
   "execution_count": 12,
   "metadata": {},
   "outputs": [],
   "source": [
    "#gradient descente:"
   ]
  },
  {
   "cell_type": "code",
   "execution_count": 13,
   "metadata": {},
   "outputs": [
    {
     "name": "stdout",
     "output_type": "stream",
     "text": [
      "la droite analytique est :\n",
      "-0.02933289089326848 * x + 4.455183115642419\n",
      "avec 100000 fois d'itération\n"
     ]
    },
    {
     "data": {
      "text/plain": [
       "<function matplotlib.pyplot.show(close=None, block=None)>"
      ]
     },
     "execution_count": 13,
     "metadata": {},
     "output_type": "execute_result"
    },
    {
     "data": {
      "image/png": "[encoded data removed]",
      "text/plain": [
       "<Figure size 432x288 with 1 Axes>"
      ]
     },
     "metadata": {
      "needs_background": "light"
     },
     "output_type": "display_data"
    }
   ],
   "source": [
    "import random\n",
    "import matplotlib\n",
    "import matplotlib.pyplot as plt\n",
    "import numpy as np\n",
    "x = [random.uniform(0, 20)]\n",
    "y = [random.gauss(4, 1)]\n",
    "\n",
    "nbpoint = 49\n",
    "for i in range(nbpoint):\n",
    "    x_new = random.uniform(0, 20)#distribution de X :uniforme de [0,20]\n",
    "    y_new = random.gauss(4, 1)#pour y :variance de 4 \n",
    "    x.append(x_new)\n",
    "    y.append(y_new)\n",
    "    \n",
    "plt.title(\"nuage des points et fonction analytique Gradient Descente en rouge \") \n",
    "plt.xlabel(\"x\")\n",
    "plt.ylabel(\"y\")\n",
    "plt.plot(x,y,'bo')\n",
    "\n",
    "#calculde la fonction coordonnée avec gadient descente\n",
    "#pas de descendre,on suppose que est 0.01\n",
    "alpha = 0.01 \n",
    "#erreur conditionnelle pour arrêter le calcul\n",
    "eps = 1e-6 \n",
    "#on commence à calculer avec la méthode gradient descente\n",
    "m = len(x)\n",
    "a, b= 0, 0\n",
    "sse, sse_new = 0, 0\n",
    "grad_a, grad_b = 0, 0\n",
    "count = 0\n",
    "#on le calcule avec 100000 fois d'itération\n",
    "for step in range(100000):\n",
    "    count += 1\n",
    "    for i in range(m):\n",
    "        base = a * x[i] + b - y[i]\n",
    "        grad_a += x[i] * base\n",
    "        grad_b += base\n",
    "\n",
    "        grad_a = grad_a / m\n",
    "        grad_b = grad_b / m\n",
    "\n",
    "        a -= alpha * grad_a\n",
    "        b -= alpha * grad_b\n",
    "\n",
    "# fonction objectif : l’erreur quadratique moyenne\n",
    "#comme m est une valeur constante , ici on nigelige \n",
    "#la valeur constante pour calcule la difference\n",
    "        for j in range(m):\n",
    "            sse_new += (a * x[j] + b - y[j]) ** 2\n",
    "\n",
    "    if abs(sse_new - sse) < eps:\n",
    "        break\n",
    "    else:\n",
    "        sse = sse_new\n",
    "\n",
    "print(\"la droite analytique est :\")        \n",
    "print('{0} * x + {1}'.format(a, b))\n",
    "print(\"avec\" , count,\"fois d'itération\") \n",
    "xd = np.linspace(0,20)\n",
    "yanaGD = xd*a+b\n",
    "plt.plot(xd,yanaGD,'g')\n",
    "plt.show"
   ]
  },
  {
   "cell_type": "code",
   "execution_count": 14,
   "metadata": {},
   "outputs": [],
   "source": [
    "#gradient stochastique "
   ]
  },
  {
   "cell_type": "code",
   "execution_count": 31,
   "metadata": {},
   "outputs": [
    {
     "data": {
      "text/plain": [
       "<function matplotlib.pyplot.show(close=None, block=None)>"
      ]
     },
     "execution_count": 31,
     "metadata": {},
     "output_type": "execute_result"
    },
    {
     "data": {
      "image/png": "[encoded data removed]",
      "text/plain": [
       "<Figure size 432x288 with 1 Axes>"
      ]
     },
     "metadata": {
      "needs_background": "light"
     },
     "output_type": "display_data"
    }
   ],
   "source": [
    "#on suppose que la fonction analytique est y =asg*x+bsg\n",
    "#ici asg et bsg sont les deux constantes\n",
    "error0 = 0\n",
    "error1 = 0\n",
    "n = 0\n",
    "m = len(x)\n",
    "#erreur conditionnelle pour arrêter le calcul\n",
    "esp = 1e-6\n",
    "#pas de descendre,on suppose que est 0.01\n",
    "pas_stogard = 0.01  \n",
    "#donner une valeur aleatoire à asg et bsg\n",
    "ags = random.randint(0,10) \n",
    "bgs = random.randint(0,10)\n",
    "while True:\n",
    "    ilotcomp = []\n",
    "    for i in range(5):  #creation d'une ilôt de 5 composantes\n",
    "        ilotcomp.append(random.randint(0,m-1))\n",
    "\n",
    "#commence à faire le calcul\n",
    "    for i in range(5):   \n",
    "        s = ilotcomp[i]\n",
    "        sum0 = ags*x[s]+bgs-y[s]\n",
    "        sum1 = (ags*x[s]+bgs-y[s])*x[s]\n",
    "        error1 = error1+(a*x[s]+b-y[s])**2\n",
    "    #gradient descend    \n",
    "    ags = ags - sum1*pas_stogard/m\n",
    "    bgs = bgs - sum0*pas_stogard/m\n",
    "    #print('asg=%f,bsg=%f,error=%f'%(asg,bsg,error1))\n",
    "    if error1-error0<esp:\n",
    "        break\n",
    " \n",
    "    n = n+1\n",
    "    #on fait 1000 fois itérations\n",
    "    if n>1000:\n",
    "        break\n",
    "\n",
    "#affichage\n",
    "plt.plot(x,y,'bo')        \n",
    "xd = np.linspace(0,20)\n",
    "yanaGS = xd*ags+bgs\n",
    "plt.plot(xd,yanaGS,'y')\n",
    "yanaGD = xd*a+b\n",
    "plt.plot(xd,yanaGD,'g')\n",
    "ycalcul = xd*k+c\n",
    "plt.plot(xd,ycalcul,'r')\n",
    "plt.title('moindres carrées en rouge,gradient descente en vert,stochastique gradient en jeune') \n",
    "plt.show"
   ]
  },
  {
   "cell_type": "code",
   "execution_count": 33,
   "metadata": {},
   "outputs": [
    {
     "name": "stdout",
     "output_type": "stream",
     "text": [
      "moindres carrées : y = 0.02898837815220822 *x + 3.805140125273185\n",
      "--------------------------------------------\n",
      "gradient descente : y =  -0.02933289089326848 *x + 4.455183115642419\n",
      "l'erreur quadratique moyenne : 286327485.58252144\n",
      "--------------------------------------------\n",
      "gradient stochastique : y =  0.04314766395586909 *x + 3.428586315883215\n",
      "l'erreur quadratique moyenne : 5632.843276746035\n"
     ]
    }
   ],
   "source": [
    "print(\"moindres carrées :\",\"y =\",k,\"*x +\",c)\n",
    "print(\"--------------------------------------------\")\n",
    "print(\"gradient descente :\",\"y = \",a,\"*x +\",b)\n",
    "print(\"l'erreur quadratique moyenne :\",sse_new)\n",
    "print(\"--------------------------------------------\")\n",
    "print(\"gradient stochastique :\",\"y = \",ags,\"*x +\",bgs)\n",
    "print(\"l'erreur quadratique moyenne :\",error1)"
   ]
  },
  {
   "cell_type": "code",
   "execution_count": null,
   "metadata": {},
   "outputs": [],
   "source": []
  }
 ],
 "metadata": {
  "kernelspec": {
   "display_name": "Python 3",
   "language": "python",
   "name": "python3"
  },
  "language_info": {
   "codemirror_mode": {
    "name": "ipython",
    "version": 3
   },
   "file_extension": ".py",
   "mimetype": "text/x-python",
   "name": "python",
   "nbconvert_exporter": "python",
   "pygments_lexer": "ipython3",
   "version": "3.7.9"
  }
 },
 "nbformat": 4,
 "nbformat_minor": 4
}
